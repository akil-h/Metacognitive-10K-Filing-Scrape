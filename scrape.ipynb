{
 "cells": [
  {
   "cell_type": "code",
   "execution_count": 22,
   "metadata": {},
   "outputs": [],
   "source": [
    "import time\n",
    "import selenium\n",
    "\n",
    "# Import webdriver\n",
    "from selenium import webdriver\n",
    "from selenium.webdriver.common.by import By\n",
    "\n",
    "# Import TimeoutException\n",
    "from selenium.common.exceptions import TimeoutException\n",
    "\n",
    "# Import Action utilities\n",
    "from selenium.webdriver.common.action_chains import ActionChains\n",
    "from selenium.webdriver.common.keys import Keys\n",
    "\n",
    "# Add options\n",
    "from selenium.webdriver.chrome.options import Options\n",
    "\n",
    "chrome_options = Options()\n",
    "chrome_options.add_experimental_option('detach', True)\n",
    "\n",
    "# Create webdriver object\n",
    "driver = webdriver.Chrome(options=chrome_options)\n",
    "\n",
    "# Get yahoo finance\n",
    "link = 'https://ca.finance.yahoo.com/'\n",
    "driver.get(link)\n",
    "time.sleep(1)\n",
    "\n",
    "# Let's scrape for conversations on big tech stocks from yahoo finance\n",
    "\n",
    "ticker = 'MSFT' # 'AAPL', 'NVDA'\n",
    "\n",
    "SearchBar = driver.find_element(By.ID, \"yfin-usr-qry\")\n",
    "SearchBar.send_keys(ticker)\n",
    "SearchBar.send_keys(Keys.ENTER)\n",
    "time.sleep(5)"
   ]
  },
  {
   "cell_type": "code",
   "execution_count": 23,
   "metadata": {},
   "outputs": [],
   "source": [
    "# gather historicals\n",
    "HistoricalTab = driver.find_element(By.CSS_SELECTOR, 'a[href=\"/quote/MSFT/history\"]')\n",
    "HistoricalTab.click()"
   ]
  },
  {
   "cell_type": "code",
   "execution_count": 24,
   "metadata": {},
   "outputs": [],
   "source": [
    "# Iterate over rows\n",
    "table = driver.find_element(By.CSS_SELECTOR, 'table[data-test=\"historical-prices\"]')\n",
    "\n",
    "# Extract table header\n",
    "HistoricalData = []\n",
    "columns = [header.text for header in table.find_elements(By.TAG_NAME, 'th')]\n",
    "\n",
    "# Extract table rows\n",
    "for row in table.find_elements(By.CSS_SELECTOR, 'tbody tr'):\n",
    "    if row.text != '':\n",
    "        cells = [cell.text for cell in row.find_elements(By.TAG_NAME, 'td')]\n",
    "        HistoricalData.append(dict(zip(columns, cells)))"
   ]
  },
  {
   "cell_type": "code",
   "execution_count": 27,
   "metadata": {},
   "outputs": [],
   "source": [
    "df = pd.DataFrame(HistoricalData)\n",
    "df.to_csv('Historicals.csv')"
   ]
  }
 ],
 "metadata": {
  "kernelspec": {
   "display_name": "Python 3",
   "language": "python",
   "name": "python3"
  },
  "language_info": {
   "codemirror_mode": {
    "name": "ipython",
    "version": 3
   },
   "file_extension": ".py",
   "mimetype": "text/x-python",
   "name": "python",
   "nbconvert_exporter": "python",
   "pygments_lexer": "ipython3",
   "version": "3.11.0"
  }
 },
 "nbformat": 4,
 "nbformat_minor": 2
}
